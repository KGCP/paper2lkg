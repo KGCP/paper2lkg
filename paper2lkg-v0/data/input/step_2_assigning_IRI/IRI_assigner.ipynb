{
 "cells": [
  {
   "cell_type": "markdown",
   "metadata": {},
   "source": [
    "### IRI assigner\n",
    "\n",
    "After getting your initial DDM in the same format as the file \"format_example.json\", run this program to assign IRIs to each sections, paragraph, and sentence. Then, the file is ready to be processed by paper2lkg."
   ]
  },
  {
   "cell_type": "code",
   "execution_count": 36,
   "metadata": {},
   "outputs": [],
   "source": [
    "import json\n",
    "import sys\n",
    "from pathlib import Path\n",
    "\n",
    "# Get the current notebook directory\n",
    "CURRENT_DIR = Path().resolve()\n",
    "\n",
    "# Add packages to sys.path\n",
    "UTILITIES_RELATIVE_PATH = '../../../src'\n",
    "UTILITIES_ABSOLUTE_PATH = str((CURRENT_DIR / UTILITIES_RELATIVE_PATH).resolve())\n",
    "if UTILITIES_ABSOLUTE_PATH not in sys.path:\n",
    "    sys.path.append(UTILITIES_ABSOLUTE_PATH)\n",
    "\n",
    "sys.path.append('../../src/utilities')\n",
    "from utilities.content_processor import sanitise_iri # type: ignore\n",
    "\n",
    "# from content_processor import sanitise_url"
   ]
  },
  {
   "cell_type": "code",
   "execution_count": 37,
   "metadata": {},
   "outputs": [],
   "source": [
    "ASKG_DATA = \"https://www.anu.edu.au/data/scholarly/\"\n",
    "ASKG_ONTO = \"https://www.anu.edu.au/onto/scholarly#\""
   ]
  },
  {
   "cell_type": "code",
   "execution_count": 38,
   "metadata": {},
   "outputs": [],
   "source": [
    "dataset = \"test\"\n",
    "index = 10\n",
    "\n",
    "with open(f\"./kg_{dataset}_{index}_org.json\") as f:\n",
    "    paper = json.load(f)"
   ]
  },
  {
   "cell_type": "code",
   "execution_count": 39,
   "metadata": {},
   "outputs": [],
   "source": [
    "new_paper = {}\n",
    "\n",
    "\n",
    "new_paper[\"iri\"] = \"Paper-\" + sanitise_iri(paper[\"title\"])\n",
    "new_paper[\"title\"] = paper[\"title\"]\n",
    "new_paper[\"authors\"] = paper[\"authors\"]\n",
    "new_paper[\"keywords\"] = paper[\"keywords\"]\n",
    "new_paper[\"sections\"] = []\n",
    "\n",
    "for i, section in enumerate(paper[\"sections\"], 1):\n",
    "    new_section = {}\n",
    "    new_section[\"iri\"] = \"Section-\" + str(i)\n",
    "    new_section[\"subtitle\"] = section[\"subtitle\"]\n",
    "    new_section[\"paragraphs\"] = []\n",
    "    new_paper[\"sections\"].append(new_section)\n",
    "\n",
    "\n",
    "    for j, paragraph in enumerate(section[\"paragraphs\"], 1):\n",
    "        new_paragraph = {}\n",
    "        new_paragraph[\"iri\"] = new_section[\"iri\"] + \"-Paragraph-\" + str(j)\n",
    "        new_paragraph[\"sentences\"] = []\n",
    "        new_section[\"paragraphs\"].append(new_paragraph)\n",
    "\n",
    "        for k, sentence in enumerate(paragraph[\"sentences\"], 1):\n",
    "            new_sentence = {}\n",
    "            new_sentence[\"iri\"] = new_paragraph[\"iri\"] + \"-Sentence-\" + str(k)\n",
    "            new_sentence[\"text\"] = sentence\n",
    "            new_paragraph[\"sentences\"].append(new_sentence)\n"
   ]
  },
  {
   "cell_type": "code",
   "execution_count": 40,
   "metadata": {},
   "outputs": [],
   "source": [
    "paper = new_paper"
   ]
  },
  {
   "cell_type": "code",
   "execution_count": 41,
   "metadata": {},
   "outputs": [],
   "source": [
    "assert paper.keys() == {\"iri\", \"title\", \"authors\", \"keywords\", \"sections\"}\n",
    "\n",
    "for section in paper[\"sections\"]:\n",
    "    assert section.keys() == {\"iri\", \"subtitle\", \"paragraphs\"}\n",
    "\n",
    "    for paragraph in section[\"paragraphs\"]:\n",
    "        assert paragraph.keys() == {\"iri\", \"sentences\"}\n",
    "\n",
    "        for sentence in paragraph[\"sentences\"]:\n",
    "            assert sentence.keys() == {\"iri\", \"text\"}"
   ]
  },
  {
   "cell_type": "code",
   "execution_count": 42,
   "metadata": {},
   "outputs": [],
   "source": [
    "with open(f\"./kg_{dataset}_{index}.json\", \"w\") as f:\n",
    "    json.dump(paper, f, indent=2)"
   ]
  }
 ],
 "metadata": {
  "kernelspec": {
   "display_name": "kg",
   "language": "python",
   "name": "python3"
  },
  "language_info": {
   "codemirror_mode": {
    "name": "ipython",
    "version": 3
   },
   "file_extension": ".py",
   "mimetype": "text/x-python",
   "name": "python",
   "nbconvert_exporter": "python",
   "pygments_lexer": "ipython3",
   "version": "3.12.8"
  }
 },
 "nbformat": 4,
 "nbformat_minor": 2
}
