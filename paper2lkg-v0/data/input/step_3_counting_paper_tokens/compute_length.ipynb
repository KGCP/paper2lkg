{
 "cells": [
  {
   "cell_type": "code",
   "execution_count": 1,
   "metadata": {},
   "outputs": [
    {
     "name": "stderr",
     "output_type": "stream",
     "text": [
      "[nltk_data] Downloading package punkt to /home/eiri/nltk_data...\n",
      "[nltk_data]   Package punkt is already up-to-date!\n",
      "[nltk_data] Downloading package punkt_tab to /home/eiri/nltk_data...\n",
      "[nltk_data]   Package punkt_tab is already up-to-date!\n",
      "[nltk_data] Downloading package wordnet to /home/eiri/nltk_data...\n",
      "[nltk_data]   Package wordnet is already up-to-date!\n",
      "[nltk_data] Downloading package omw-1.4 to /home/eiri/nltk_data...\n",
      "[nltk_data]   Package omw-1.4 is already up-to-date!\n",
      "[nltk_data] Downloading package averaged_perceptron_tagger to\n",
      "[nltk_data]     /home/eiri/nltk_data...\n",
      "[nltk_data]   Package averaged_perceptron_tagger is already up-to-\n",
      "[nltk_data]       date!\n",
      "[nltk_data] Downloading package averaged_perceptron_tagger_eng to\n",
      "[nltk_data]     /home/eiri/nltk_data...\n",
      "[nltk_data]   Package averaged_perceptron_tagger_eng is already up-to-\n",
      "[nltk_data]       date!\n",
      "[nltk_data] Downloading package stopwords to /home/eiri/nltk_data...\n",
      "[nltk_data]   Package stopwords is already up-to-date!\n"
     ]
    }
   ],
   "source": [
    "import json\n",
    "import sys\n",
    "\n",
    "sys.path.append('../../../src/utilities')\n",
    "\n",
    "from content_processor import tokenise_text # type: ignore\n",
    "from paper_access import get_text # type: ignore\n"
   ]
  },
  {
   "cell_type": "code",
   "execution_count": 2,
   "metadata": {},
   "outputs": [
    {
     "name": "stdout",
     "output_type": "stream",
     "text": [
      "Paper Length: 12106\n",
      "Max Section Length: 1460\n",
      "Max Section Name: SHACL learning: Rules with open variables or uncertain shapes\n",
      "Max Paragraph Length: 260\n"
     ]
    }
   ],
   "source": [
    "dataset =\"ASKG\"\n",
    "index = 10\n",
    "\n",
    "with open(f'../kg_{dataset}_{index}.json') as f:\n",
    "    paper = json.load(f)\n",
    "\n",
    "paper_token = 0\n",
    "max_section_token = 0\n",
    "max_section_name = \"\"\n",
    "max_paragraph_token = 0\n",
    "\n",
    "for section in paper['sections']:\n",
    "    text = get_text(section)\n",
    "    tokens = tokenise_text(text)\n",
    "    if len(tokens) > max_section_token:\n",
    "        max_section_token = len(tokens)\n",
    "        max_section_name = section[\"subtitle\"]\n",
    "\n",
    "    paper_token += len(tokens)\n",
    "\n",
    "\n",
    "    for paragraph in section['paragraphs']:\n",
    "        text = get_text(paragraph)\n",
    "        tokens = tokenise_text(text)\n",
    "        if len(tokens) > max_paragraph_token:\n",
    "            max_paragraph_token = len(tokens)\n",
    "\n",
    "print(f\"Paper Length: {paper_token}\")\n",
    "print(f\"Max Section Length: {max_section_token}\")\n",
    "print(f\"Max Section Name: {max_section_name}\")\n",
    "print(f\"Max Paragraph Length: {max_paragraph_token}\")"
   ]
  },
  {
   "cell_type": "code",
   "execution_count": null,
   "metadata": {},
   "outputs": [],
   "source": []
  }
 ],
 "metadata": {
  "kernelspec": {
   "display_name": "kg",
   "language": "python",
   "name": "python3"
  },
  "language_info": {
   "codemirror_mode": {
    "name": "ipython",
    "version": 3
   },
   "file_extension": ".py",
   "mimetype": "text/x-python",
   "name": "python",
   "nbconvert_exporter": "python",
   "pygments_lexer": "ipython3",
   "version": "3.12.8"
  }
 },
 "nbformat": 4,
 "nbformat_minor": 2
}
