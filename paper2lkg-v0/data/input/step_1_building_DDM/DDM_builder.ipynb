{
 "cells": [
  {
   "cell_type": "markdown",
   "metadata": {},
   "source": [
    "### Simple LLM Builder\n",
    "\n",
    "This is a helper program for building DDM manually.\n",
    "\n",
    "It takes a section or paragraph of unstructured text, call an LLM, and decompose it into a hierarchy of sections, paragraphs, and sentences."
   ]
  },
  {
   "cell_type": "code",
   "execution_count": 37,
   "metadata": {},
   "outputs": [],
   "source": [
    "import sys\n",
    "from pathlib import Path\n",
    "\n",
    "# Get the current notebook directory\n",
    "CURRENT_DIR = Path().resolve()\n",
    "\n",
    "# Add packages to sys.path\n",
    "UTILITIES_RELATIVE_PATH = '../../../src'\n",
    "UTILITIES_ABSOLUTE_PATH = str((CURRENT_DIR / UTILITIES_RELATIVE_PATH).resolve())\n",
    "if UTILITIES_ABSOLUTE_PATH not in sys.path:\n",
    "    sys.path.append(UTILITIES_ABSOLUTE_PATH)\n",
    "\n",
    "from utilities.llm_response_handler_JSON import call_llm_and_return_JSON, initialise_llm"
   ]
  },
  {
   "cell_type": "code",
   "execution_count": 38,
   "metadata": {},
   "outputs": [],
   "source": [
    "llm = initialise_llm()\n",
    "\n",
    "PROMPT_PATH = CURRENT_DIR / f\"prompt_1_template.md\"\n",
    "\n",
    "# Open the prompt template\n",
    "with open(PROMPT_PATH, \"r\") as file:\n",
    "    prompt_template = file.read()"
   ]
  },
  {
   "cell_type": "code",
   "execution_count": 39,
   "metadata": {},
   "outputs": [],
   "source": [
    "text = '''\n",
    "'''\n",
    "\n",
    "prompt = prompt_template.format(text=text)\n",
    "js, log, org = call_llm_and_return_JSON(llm, prompt)\n"
   ]
  },
  {
   "cell_type": "code",
   "execution_count": 40,
   "metadata": {},
   "outputs": [
    {
     "name": "stdout",
     "output_type": "stream",
     "text": [
      "```json\n",
      "{\n",
      "    \"paragraphs\": []\n",
      "}\n",
      "```\n"
     ]
    }
   ],
   "source": [
    "print(org)"
   ]
  }
 ],
 "metadata": {
  "kernelspec": {
   "display_name": "kg",
   "language": "python",
   "name": "python3"
  },
  "language_info": {
   "codemirror_mode": {
    "name": "ipython",
    "version": 3
   },
   "file_extension": ".py",
   "mimetype": "text/x-python",
   "name": "python",
   "nbconvert_exporter": "python",
   "pygments_lexer": "ipython3",
   "version": "3.12.8"
  }
 },
 "nbformat": 4,
 "nbformat_minor": 2
}
