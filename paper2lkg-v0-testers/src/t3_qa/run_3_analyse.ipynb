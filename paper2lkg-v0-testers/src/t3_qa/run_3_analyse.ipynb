{
 "cells": [
  {
   "cell_type": "code",
   "execution_count": 20,
   "metadata": {},
   "outputs": [],
   "source": [
    "import json\n",
    "import numpy as mp"
   ]
  },
  {
   "cell_type": "code",
   "execution_count": 21,
   "metadata": {},
   "outputs": [
    {
     "name": "stdout",
     "output_type": "stream",
     "text": [
      "Mean: 0.9\n",
      "Standard deviation: 0.089\n"
     ]
    }
   ],
   "source": [
    "input_folder = \"../../data/output/QA\"\n",
    "output_folder = \"../../data/raw_results\"\n",
    "\n",
    "\n",
    "method = \"DDM\"\n",
    "llm = \"l\"\n",
    "\n",
    "scores = []\n",
    "\n",
    "for index in range(1, 6):\n",
    "    with open(f\"{input_folder}/qa_actual_{index}_{method}_{llm}.json\") as f:\n",
    "        data = json.load(f)\n",
    "\n",
    "    for qa in data:\n",
    "        scores.append(qa[\"similarity_score\"])\n",
    "\n",
    "mean = mp.mean(scores)\n",
    "std = mp.std(scores)\n",
    "\n",
    "result = {\n",
    "    \"mean\": mean,\n",
    "    \"std\": std,\n",
    "    \"scores\": scores,\n",
    "}\n",
    "\n",
    "print(f\"Mean: {mp.mean(scores):.2g}\")\n",
    "print(f\"Standard deviation: {mp.std(scores):.2g}\")\n",
    "\n",
    "with open(f'{output_folder}/rag_{method}_{llm}.json', \"w\") as f:\n",
    "    json.dump(result, f, indent=2)"
   ]
  }
 ],
 "metadata": {
  "kernelspec": {
   "display_name": "kg",
   "language": "python",
   "name": "python3"
  },
  "language_info": {
   "codemirror_mode": {
    "name": "ipython",
    "version": 3
   },
   "file_extension": ".py",
   "mimetype": "text/x-python",
   "name": "python",
   "nbconvert_exporter": "python",
   "pygments_lexer": "ipython3",
   "version": "3.12.8"
  }
 },
 "nbformat": 4,
 "nbformat_minor": 2
}
